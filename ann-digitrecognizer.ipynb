{
 "cells": [
  {
   "cell_type": "code",
   "execution_count": 1,
   "id": "3be060e6",
   "metadata": {
    "execution": {
     "iopub.execute_input": "2024-10-20T17:51:48.470613Z",
     "iopub.status.busy": "2024-10-20T17:51:48.470159Z",
     "iopub.status.idle": "2024-10-20T17:52:06.200894Z",
     "shell.execute_reply": "2024-10-20T17:52:06.199677Z"
    },
    "papermill": {
     "duration": 17.746309,
     "end_time": "2024-10-20T17:52:06.203843",
     "exception": false,
     "start_time": "2024-10-20T17:51:48.457534",
     "status": "completed"
    },
    "tags": []
   },
   "outputs": [],
   "source": [
    "import pandas as pd\n",
    "import numpy as np\n",
    "import matplotlib.pyplot as plt\n",
    "from sklearn.model_selection import train_test_split\n",
    "\n",
    "import struct\n",
    "import warnings\n",
    "warnings.filterwarnings('ignore')\n",
    "import tensorflow as tf"
   ]
  },
  {
   "cell_type": "code",
   "execution_count": 2,
   "id": "9b1cb034",
   "metadata": {
    "execution": {
     "iopub.execute_input": "2024-10-20T17:52:06.227214Z",
     "iopub.status.busy": "2024-10-20T17:52:06.226000Z",
     "iopub.status.idle": "2024-10-20T17:52:06.237671Z",
     "shell.execute_reply": "2024-10-20T17:52:06.236535Z"
    },
    "papermill": {
     "duration": 0.02573,
     "end_time": "2024-10-20T17:52:06.240174",
     "exception": false,
     "start_time": "2024-10-20T17:52:06.214444",
     "status": "completed"
    },
    "tags": []
   },
   "outputs": [
    {
     "data": {
      "text/plain": [
       "[]"
      ]
     },
     "execution_count": 2,
     "metadata": {},
     "output_type": "execute_result"
    }
   ],
   "source": [
    "tf.config.list_physical_devices('GPU')"
   ]
  },
  {
   "cell_type": "code",
   "execution_count": 3,
   "id": "8563076a",
   "metadata": {
    "execution": {
     "iopub.execute_input": "2024-10-20T17:52:06.263173Z",
     "iopub.status.busy": "2024-10-20T17:52:06.262677Z",
     "iopub.status.idle": "2024-10-20T17:52:06.272021Z",
     "shell.execute_reply": "2024-10-20T17:52:06.270696Z"
    },
    "papermill": {
     "duration": 0.024022,
     "end_time": "2024-10-20T17:52:06.274983",
     "exception": false,
     "start_time": "2024-10-20T17:52:06.250961",
     "status": "completed"
    },
    "tags": []
   },
   "outputs": [],
   "source": [
    "import struct\n",
    "import numpy as np\n",
    "\n",
    "# File paths for MNIST dataset\n",
    "train_images_path = '/kaggle/input/mnist-dataset/train-images.idx3-ubyte'\n",
    "train_labels_path = '/kaggle/input/mnist-dataset/train-labels.idx1-ubyte'\n",
    "test_images_path = '/kaggle/input/mnist-dataset/t10k-images.idx3-ubyte'\n",
    "test_labels_path = '/kaggle/input/mnist-dataset/t10k-labels.idx1-ubyte'\n",
    "\n",
    "# Function to load files in IDX format\n",
    "def load_idx(filename):\n",
    "    # Open the file in binary read mode\n",
    "    with open(filename, 'rb') as f:\n",
    "        # Read the first 4 bytes to get metadata (zero padding, data type, dimensions)\n",
    "        zero, data_type, dims = struct.unpack('>HBB', f.read(4))\n",
    "        \n",
    "        # Determine the shape of the data (number of dimensions)\n",
    "        shape = tuple(struct.unpack('>I', f.read(4))[0] for d in range(dims))\n",
    "        \n",
    "        # Load the remaining bytes as a numpy array and reshape it according to the dimensions\n",
    "        return np.frombuffer(f.read(), dtype=np.uint8).reshape(shape)\n"
   ]
  },
  {
   "cell_type": "code",
   "execution_count": 4,
   "id": "aee75f36",
   "metadata": {
    "execution": {
     "iopub.execute_input": "2024-10-20T17:52:06.297559Z",
     "iopub.status.busy": "2024-10-20T17:52:06.297090Z",
     "iopub.status.idle": "2024-10-20T17:52:06.305373Z",
     "shell.execute_reply": "2024-10-20T17:52:06.304177Z"
    },
    "papermill": {
     "duration": 0.02261,
     "end_time": "2024-10-20T17:52:06.308008",
     "exception": false,
     "start_time": "2024-10-20T17:52:06.285398",
     "status": "completed"
    },
    "tags": []
   },
   "outputs": [],
   "source": [
    "train_images_path = '/kaggle/input/mnist-dataset/train-images.idx3-ubyte'\n",
    "train_labels_path = '/kaggle/input/mnist-dataset/train-labels.idx1-ubyte'\n",
    "test_images_path = '/kaggle/input/mnist-dataset/t10k-images.idx3-ubyte'\n",
    "test_labels_path = '/kaggle/input/mnist-dataset/t10k-labels.idx1-ubyte'\n",
    "\n",
    "# To load files in IDX format\n",
    "def load_idx(filename):\n",
    "    with open(filename, 'rb') as f:\n",
    "        zero, data_type, dims = struct.unpack('>HBB', f.read(4))\n",
    "        shape = tuple(struct.unpack('>I', f.read(4))[0] for d in range(dims))\n",
    "        return np.frombuffer(f.read(), dtype=np.uint8).reshape(shape)"
   ]
  },
  {
   "cell_type": "code",
   "execution_count": 5,
   "id": "847d69e7",
   "metadata": {
    "execution": {
     "iopub.execute_input": "2024-10-20T17:52:06.331794Z",
     "iopub.status.busy": "2024-10-20T17:52:06.331284Z",
     "iopub.status.idle": "2024-10-20T17:52:06.828717Z",
     "shell.execute_reply": "2024-10-20T17:52:06.827435Z"
    },
    "papermill": {
     "duration": 0.512225,
     "end_time": "2024-10-20T17:52:06.831789",
     "exception": false,
     "start_time": "2024-10-20T17:52:06.319564",
     "status": "completed"
    },
    "tags": []
   },
   "outputs": [],
   "source": [
    "# Loading the data\n",
    "X_train = load_idx(train_images_path)\n",
    "y_train = load_idx(train_labels_path)\n",
    "X_test = load_idx(test_images_path)\n",
    "y_test = load_idx(test_labels_path)"
   ]
  },
  {
   "cell_type": "code",
   "execution_count": 6,
   "id": "ee43c343",
   "metadata": {
    "execution": {
     "iopub.execute_input": "2024-10-20T17:52:06.855448Z",
     "iopub.status.busy": "2024-10-20T17:52:06.854975Z",
     "iopub.status.idle": "2024-10-20T17:52:06.862440Z",
     "shell.execute_reply": "2024-10-20T17:52:06.861119Z"
    },
    "papermill": {
     "duration": 0.022987,
     "end_time": "2024-10-20T17:52:06.865873",
     "exception": false,
     "start_time": "2024-10-20T17:52:06.842886",
     "status": "completed"
    },
    "tags": []
   },
   "outputs": [
    {
     "name": "stdout",
     "output_type": "stream",
     "text": [
      "X_train shape: (60000, 28, 28)\n",
      "X_test shape: (10000, 28, 28)\n",
      "y_train shape: (60000,)\n",
      "y_test shape: (10000,)\n"
     ]
    }
   ],
   "source": [
    "# Let's check the dimensions of the data\n",
    "print('X_train shape:', X_train.shape)\n",
    "print('X_test shape:', X_test.shape)\n",
    "print('y_train shape:', y_train.shape)\n",
    "print('y_test shape:', y_test.shape)"
   ]
  },
  {
   "cell_type": "markdown",
   "id": "c6970927",
   "metadata": {
    "papermill": {
     "duration": 0.010636,
     "end_time": "2024-10-20T17:52:06.887736",
     "exception": false,
     "start_time": "2024-10-20T17:52:06.877100",
     "status": "completed"
    },
    "tags": []
   },
   "source": [
    "*X_train shape*: (60000, 28, 28)\n",
    "* 60000: There are a total of 60,000 handwritten digit images in the training set.\n",
    "* 28, 28: Each image is 28x28 pixels in size.\n",
    "\n",
    "*X_test shape*: (10000, 28, 28)\n",
    "* 10000: There are a total of 10,000 handwritten digit images in the test set.\n",
    "* 28, 28: Each image is also 28x28 pixels in size.\n",
    "\n",
    "*y_train shape*: (60000,)\n",
    "* 60000: The training labels consist of an array with 60,000 elements, one for each training image.\n",
    "\n",
    "*y_test shape*: (10000,)\n",
    "* 10000: The test labels consist of an array with 10,000 elements, one for each test image."
   ]
  },
  {
   "cell_type": "code",
   "execution_count": 7,
   "id": "fdf19700",
   "metadata": {
    "execution": {
     "iopub.execute_input": "2024-10-20T17:52:06.910584Z",
     "iopub.status.busy": "2024-10-20T17:52:06.910094Z",
     "iopub.status.idle": "2024-10-20T17:52:07.324224Z",
     "shell.execute_reply": "2024-10-20T17:52:07.322902Z"
    },
    "papermill": {
     "duration": 0.42895,
     "end_time": "2024-10-20T17:52:07.327306",
     "exception": false,
     "start_time": "2024-10-20T17:52:06.898356",
     "status": "completed"
    },
    "tags": []
   },
   "outputs": [
    {
     "data": {
      "image/png": "[encoded data removed]",
      "text/plain": [
       "<Figure size 1000x200 with 5 Axes>"
      ]
     },
     "metadata": {},
     "output_type": "display_data"
    }
   ],
   "source": [
    "def plot_images(images, labels, num_images=5):\n",
    "    # Create a figure for displaying images\n",
    "    plt.figure(figsize=(10, 2))\n",
    "    \n",
    "    for i in range(num_images):\n",
    "        plt.subplot(1, num_images, i + 1)  # Create a subplot for each image\n",
    "        plt.imshow(images[i], cmap='gray')  # Display the image in grayscale\n",
    "        plt.title(f'Label: {labels[i]}')  # Set the title as the corresponding label\n",
    "        plt.axis('off')  # Turn off the axis for a cleaner visualization\n",
    "    plt.show()  # Show the plot with the selected images and labels\n",
    "# Example: Plot 5 images and their corresponding labels    \n",
    "plot_images(X_train, y_train, num_images=5)"
   ]
  },
  {
   "cell_type": "code",
   "execution_count": 8,
   "id": "2f853ace",
   "metadata": {
    "execution": {
     "iopub.execute_input": "2024-10-20T17:52:07.351029Z",
     "iopub.status.busy": "2024-10-20T17:52:07.350060Z",
     "iopub.status.idle": "2024-10-20T17:52:07.459977Z",
     "shell.execute_reply": "2024-10-20T17:52:07.458772Z"
    },
    "papermill": {
     "duration": 0.125089,
     "end_time": "2024-10-20T17:52:07.463056",
     "exception": false,
     "start_time": "2024-10-20T17:52:07.337967",
     "status": "completed"
    },
    "tags": []
   },
   "outputs": [],
   "source": [
    "# Flatten the images from 28x28 dimensions and normalize them\n",
    "X_train = X_train.reshape((X_train.shape[0], 28 * 28)).astype('float32') / 255\n",
    "X_test = X_test.reshape((X_test.shape[0], 28 * 28)).astype('float32') / 255"
   ]
  },
  {
   "cell_type": "code",
   "execution_count": 9,
   "id": "2795d050",
   "metadata": {
    "execution": {
     "iopub.execute_input": "2024-10-20T17:52:07.489113Z",
     "iopub.status.busy": "2024-10-20T17:52:07.488645Z",
     "iopub.status.idle": "2024-10-20T17:52:07.496527Z",
     "shell.execute_reply": "2024-10-20T17:52:07.494915Z"
    },
    "papermill": {
     "duration": 0.025214,
     "end_time": "2024-10-20T17:52:07.499168",
     "exception": false,
     "start_time": "2024-10-20T17:52:07.473954",
     "status": "completed"
    },
    "tags": []
   },
   "outputs": [
    {
     "name": "stdout",
     "output_type": "stream",
     "text": [
      "X_train shape: (60000, 784)\n",
      "X_test shape: (10000, 784)\n"
     ]
    }
   ],
   "source": [
    "# Print the shapes of the flattened training and test datasets to ensure correct transformation from 28x28 images to 784-dimensional arrays.\n",
    "print('X_train shape:', X_train.shape)\n",
    "print('X_test shape:', X_test.shape)"
   ]
  },
  {
   "cell_type": "code",
   "execution_count": 10,
   "id": "d8859912",
   "metadata": {
    "execution": {
     "iopub.execute_input": "2024-10-20T17:52:07.522757Z",
     "iopub.status.busy": "2024-10-20T17:52:07.522176Z",
     "iopub.status.idle": "2024-10-20T17:52:07.618772Z",
     "shell.execute_reply": "2024-10-20T17:52:07.617460Z"
    },
    "papermill": {
     "duration": 0.111775,
     "end_time": "2024-10-20T17:52:07.621805",
     "exception": false,
     "start_time": "2024-10-20T17:52:07.510030",
     "status": "completed"
    },
    "tags": []
   },
   "outputs": [],
   "source": [
    "# Split the training data into training and validation sets.\n",
    "# 20% of the data will be used for validation, while 80% will remain for training.\n",
    "# The random_state parameter ensures reproducibility of the split.\n",
    "X_train, X_val, y_train, y_val = train_test_split(X_train, y_train, test_size=0.2, random_state=42)"
   ]
  },
  {
   "cell_type": "code",
   "execution_count": 11,
   "id": "e167356c",
   "metadata": {
    "execution": {
     "iopub.execute_input": "2024-10-20T17:52:07.646083Z",
     "iopub.status.busy": "2024-10-20T17:52:07.645521Z",
     "iopub.status.idle": "2024-10-20T17:52:07.733503Z",
     "shell.execute_reply": "2024-10-20T17:52:07.732109Z"
    },
    "papermill": {
     "duration": 0.103372,
     "end_time": "2024-10-20T17:52:07.736582",
     "exception": false,
     "start_time": "2024-10-20T17:52:07.633210",
     "status": "completed"
    },
    "tags": []
   },
   "outputs": [],
   "source": [
    "# Apply one-hot encoding to the class labels for training, validation, and test datasets.\n",
    "# This transforms the labels into a binary matrix representation, \n",
    "# with 10 classes in total, enabling multi-class classification.\n",
    "y_train = tf.keras.utils.to_categorical(y_train, 10)\n",
    "y_val = tf.keras.utils.to_categorical(y_val, 10)\n",
    "y_test = tf.keras.utils.to_categorical(y_test, 10)"
   ]
  },
  {
   "cell_type": "markdown",
   "id": "926b0512",
   "metadata": {
    "papermill": {
     "duration": 0.010875,
     "end_time": "2024-10-20T17:52:07.758257",
     "exception": false,
     "start_time": "2024-10-20T17:52:07.747382",
     "status": "completed"
    },
    "tags": []
   },
   "source": [
    "One-hot encoding is applied to class labels to enable multi-class classification. This process prevents the model from assuming any ordinal relationship between classes and enhances compatibility with loss functions like categorical cross-entropy. As a result, the model's learning process is optimized, allowing for a clear distinction between classes."
   ]
  },
  {
   "cell_type": "code",
   "execution_count": 12,
   "id": "df1b545c",
   "metadata": {
    "execution": {
     "iopub.execute_input": "2024-10-20T17:52:07.782839Z",
     "iopub.status.busy": "2024-10-20T17:52:07.782342Z",
     "iopub.status.idle": "2024-10-20T17:52:07.791091Z",
     "shell.execute_reply": "2024-10-20T17:52:07.789811Z"
    },
    "papermill": {
     "duration": 0.024672,
     "end_time": "2024-10-20T17:52:07.793753",
     "exception": false,
     "start_time": "2024-10-20T17:52:07.769081",
     "status": "completed"
    },
    "tags": []
   },
   "outputs": [
    {
     "data": {
      "text/plain": [
       "array([[0., 0., 0., 0., 0., 1., 0., 0., 0., 0.],\n",
       "       [1., 0., 0., 0., 0., 0., 0., 0., 0., 0.],\n",
       "       [0., 1., 0., 0., 0., 0., 0., 0., 0., 0.],\n",
       "       [0., 0., 0., 0., 0., 0., 1., 0., 0., 0.],\n",
       "       [0., 1., 0., 0., 0., 0., 0., 0., 0., 0.]])"
      ]
     },
     "execution_count": 12,
     "metadata": {},
     "output_type": "execute_result"
    }
   ],
   "source": [
    "# Display the first five encoded class labels to verify the one-hot encoding process.\n",
    "y_train[:5]"
   ]
  },
  {
   "cell_type": "markdown",
   "id": "e8961d36",
   "metadata": {
    "papermill": {
     "duration": 0.010858,
     "end_time": "2024-10-20T17:52:07.815825",
     "exception": false,
     "start_time": "2024-10-20T17:52:07.804967",
     "status": "completed"
    },
    "tags": []
   },
   "source": [
    "**Model**"
   ]
  },
  {
   "cell_type": "code",
   "execution_count": 13,
   "id": "88ab9fe9",
   "metadata": {
    "execution": {
     "iopub.execute_input": "2024-10-20T17:52:07.840254Z",
     "iopub.status.busy": "2024-10-20T17:52:07.839778Z",
     "iopub.status.idle": "2024-10-20T17:52:07.850064Z",
     "shell.execute_reply": "2024-10-20T17:52:07.848810Z"
    },
    "papermill": {
     "duration": 0.025648,
     "end_time": "2024-10-20T17:52:07.852958",
     "exception": false,
     "start_time": "2024-10-20T17:52:07.827310",
     "status": "completed"
    },
    "tags": []
   },
   "outputs": [],
   "source": [
    "# Construct the model using a sequential architecture, which allows layers to be stacked linearly.\n",
    "model = tf.keras.models.Sequential()"
   ]
  },
  {
   "cell_type": "markdown",
   "id": "09765c81",
   "metadata": {
    "papermill": {
     "duration": 0.010451,
     "end_time": "2024-10-20T17:52:07.874630",
     "exception": false,
     "start_time": "2024-10-20T17:52:07.864179",
     "status": "completed"
    },
    "tags": []
   },
   "source": [
    "**Input Layer**"
   ]
  },
  {
   "cell_type": "code",
   "execution_count": 14,
   "id": "79cb00ff",
   "metadata": {
    "execution": {
     "iopub.execute_input": "2024-10-20T17:52:07.898410Z",
     "iopub.status.busy": "2024-10-20T17:52:07.897893Z",
     "iopub.status.idle": "2024-10-20T17:52:07.983834Z",
     "shell.execute_reply": "2024-10-20T17:52:07.982529Z"
    },
    "papermill": {
     "duration": 0.101167,
     "end_time": "2024-10-20T17:52:07.986771",
     "exception": false,
     "start_time": "2024-10-20T17:52:07.885604",
     "status": "completed"
    },
    "tags": []
   },
   "outputs": [],
   "source": [
    "# Define the input layer with the shape corresponding to flattened 28x28 images\n",
    "model.add(tf.keras.layers.Input(shape=(28 * 28,)))\n",
    "\n",
    "# Add the first hidden layer with 512 units and ReLU activation function\n",
    "model.add(tf.keras.layers.Dense(512, activation='relu'))\n",
    "\n",
    "# Add a dropout layer with a rate of 0.3 to reduce overfitting during training\n",
    "model.add(tf.keras.layers.Dropout(0.3))"
   ]
  },
  {
   "cell_type": "markdown",
   "id": "ae31a81e",
   "metadata": {
    "papermill": {
     "duration": 0.010624,
     "end_time": "2024-10-20T17:52:08.008252",
     "exception": false,
     "start_time": "2024-10-20T17:52:07.997628",
     "status": "completed"
    },
    "tags": []
   },
   "source": [
    "**Hidden Layer**"
   ]
  },
  {
   "cell_type": "code",
   "execution_count": 15,
   "id": "0fda398e",
   "metadata": {
    "execution": {
     "iopub.execute_input": "2024-10-20T17:52:08.032182Z",
     "iopub.status.busy": "2024-10-20T17:52:08.031712Z",
     "iopub.status.idle": "2024-10-20T17:52:08.084767Z",
     "shell.execute_reply": "2024-10-20T17:52:08.083214Z"
    },
    "papermill": {
     "duration": 0.068412,
     "end_time": "2024-10-20T17:52:08.087874",
     "exception": false,
     "start_time": "2024-10-20T17:52:08.019462",
     "status": "completed"
    },
    "tags": []
   },
   "outputs": [],
   "source": [
    "# Adding the first hidden layer with 256 units and ReLU activation function.\n",
    "model.add(tf.keras.layers.Dense(256, activation='relu'))  # hidden layer 1\n",
    "\n",
    "# Adding a dropout layer with a rate of 0.3 to reduce overfitting.\n",
    "model.add(tf.keras.layers.Dropout(0.3))\n",
    "\n",
    "# Adding the second hidden layer with 128 units and ReLU activation function.\n",
    "model.add(tf.keras.layers.Dense(128, activation='relu'))  # hidden layer 2\n",
    "\n",
    "# Adding another dropout layer with a rate of 0.3 to enhance generalization.\n",
    "model.add(tf.keras.layers.Dropout(0.3))"
   ]
  },
  {
   "cell_type": "markdown",
   "id": "01dc9cf8",
   "metadata": {
    "papermill": {
     "duration": 0.011688,
     "end_time": "2024-10-20T17:52:08.111894",
     "exception": false,
     "start_time": "2024-10-20T17:52:08.100206",
     "status": "completed"
    },
    "tags": []
   },
   "source": [
    "**Output Layer**"
   ]
  },
  {
   "cell_type": "code",
   "execution_count": 16,
   "id": "9ba8f69f",
   "metadata": {
    "execution": {
     "iopub.execute_input": "2024-10-20T17:52:08.138391Z",
     "iopub.status.busy": "2024-10-20T17:52:08.137897Z",
     "iopub.status.idle": "2024-10-20T17:52:08.161574Z",
     "shell.execute_reply": "2024-10-20T17:52:08.160379Z"
    },
    "papermill": {
     "duration": 0.039504,
     "end_time": "2024-10-20T17:52:08.165116",
     "exception": false,
     "start_time": "2024-10-20T17:52:08.125612",
     "status": "completed"
    },
    "tags": []
   },
   "outputs": [],
   "source": [
    "# Output layer: Using softmax activation for multi-class classification.\n",
    "model.add(tf.keras.layers.Dense(10, activation='softmax'))"
   ]
  },
  {
   "cell_type": "markdown",
   "id": "91d77ba9",
   "metadata": {
    "papermill": {
     "duration": 0.010577,
     "end_time": "2024-10-20T17:52:08.187032",
     "exception": false,
     "start_time": "2024-10-20T17:52:08.176455",
     "status": "completed"
    },
    "tags": []
   },
   "source": [
    "**Model Compilation**"
   ]
  },
  {
   "cell_type": "code",
   "execution_count": 17,
   "id": "af9c25ea",
   "metadata": {
    "execution": {
     "iopub.execute_input": "2024-10-20T17:52:08.210908Z",
     "iopub.status.busy": "2024-10-20T17:52:08.210496Z",
     "iopub.status.idle": "2024-10-20T17:52:08.228197Z",
     "shell.execute_reply": "2024-10-20T17:52:08.226959Z"
    },
    "papermill": {
     "duration": 0.032993,
     "end_time": "2024-10-20T17:52:08.231036",
     "exception": false,
     "start_time": "2024-10-20T17:52:08.198043",
     "status": "completed"
    },
    "tags": []
   },
   "outputs": [],
   "source": [
    "# Compile the model using the Adam optimizer and categorical cross-entropy loss for multi-class classification, tracking accuracy as a metric.\n",
    "model.compile(optimizer='adam', loss='categorical_crossentropy', metrics=['accuracy'])"
   ]
  },
  {
   "cell_type": "code",
   "execution_count": 18,
   "id": "6a53e233",
   "metadata": {
    "execution": {
     "iopub.execute_input": "2024-10-20T17:52:08.255087Z",
     "iopub.status.busy": "2024-10-20T17:52:08.254602Z",
     "iopub.status.idle": "2024-10-20T17:52:08.260623Z",
     "shell.execute_reply": "2024-10-20T17:52:08.259458Z"
    },
    "papermill": {
     "duration": 0.020873,
     "end_time": "2024-10-20T17:52:08.263202",
     "exception": false,
     "start_time": "2024-10-20T17:52:08.242329",
     "status": "completed"
    },
    "tags": []
   },
   "outputs": [],
   "source": [
    "# Early stopping callback to prevent overfitting during training.\n",
    "early_stopping = tf.keras.callbacks.EarlyStopping(\n",
    "    monitor='val_loss',  # Metric to monitor (validation loss)\n",
    "    patience=3,          # Stop training after 3 epochs without improvement in val_loss\n",
    "    restore_best_weights=True,  # Restore the weights of the best model\n",
    "    verbose=1            # Print status updates during training\n",
    ")"
   ]
  },
  {
   "cell_type": "markdown",
   "id": "bce58d11",
   "metadata": {
    "papermill": {
     "duration": 0.010756,
     "end_time": "2024-10-20T17:52:08.285182",
     "exception": false,
     "start_time": "2024-10-20T17:52:08.274426",
     "status": "completed"
    },
    "tags": []
   },
   "source": [
    "*Early stopping* is a regularization technique used to prevent overfitting in machine learning models, particularly neural networks.\n",
    "**Key Points:**\n",
    "* Purpose: To enhance model generalization by stopping training before the model learns the noise in the training data.\n",
    "* Mechanism: The training process monitors a specific metric (commonly validation loss). If this metric does not improve for a defined number of consecutive epochs (known as \"patience\"), training is halted.\n",
    "* Key Parameters:\n",
    "* * Monitor: The metric to be observed (e.g., val_loss).\n",
    "  * Patience: The number of epochs without improvement after which training will stop.\n",
    "  * Restore Best Weights: A setting to restore the weights of the best-performing model instead of the final model.\n",
    "\n",
    "Benefits:\n",
    "* Prevents overfitting, thereby improving the model’s performance on unseen data.\n",
    "* Saves computational resources by terminating training when further improvements are unlikely.\n",
    "\n",
    "In summary, early stopping is an effective technique for optimizing the training process, ensuring the model maintains its best performance while minimizing the risk of overfitting."
   ]
  },
  {
   "cell_type": "markdown",
   "id": "1fea007b",
   "metadata": {
    "papermill": {
     "duration": 0.010679,
     "end_time": "2024-10-20T17:52:08.306759",
     "exception": false,
     "start_time": "2024-10-20T17:52:08.296080",
     "status": "completed"
    },
    "tags": []
   },
   "source": [
    "**Model Training**"
   ]
  },
  {
   "cell_type": "code",
   "execution_count": 19,
   "id": "8e57f78f",
   "metadata": {
    "execution": {
     "iopub.execute_input": "2024-10-20T17:52:08.331117Z",
     "iopub.status.busy": "2024-10-20T17:52:08.330641Z",
     "iopub.status.idle": "2024-10-20T17:52:52.757630Z",
     "shell.execute_reply": "2024-10-20T17:52:52.756191Z"
    },
    "papermill": {
     "duration": 44.442715,
     "end_time": "2024-10-20T17:52:52.760418",
     "exception": false,
     "start_time": "2024-10-20T17:52:08.317703",
     "status": "completed"
    },
    "tags": []
   },
   "outputs": [
    {
     "name": "stdout",
     "output_type": "stream",
     "text": [
      "Epoch 1/10\n",
      "\u001b[1m375/375\u001b[0m \u001b[32m━━━━━━━━━━━━━━━━━━━━\u001b[0m\u001b[37m\u001b[0m \u001b[1m6s\u001b[0m 12ms/step - accuracy: 0.7767 - loss: 0.6966 - val_accuracy: 0.9581 - val_loss: 0.1393\n",
      "Epoch 2/10\n",
      "\u001b[1m375/375\u001b[0m \u001b[32m━━━━━━━━━━━━━━━━━━━━\u001b[0m\u001b[37m\u001b[0m \u001b[1m4s\u001b[0m 11ms/step - accuracy: 0.9493 - loss: 0.1689 - val_accuracy: 0.9707 - val_loss: 0.0977\n",
      "Epoch 3/10\n",
      "\u001b[1m375/375\u001b[0m \u001b[32m━━━━━━━━━━━━━━━━━━━━\u001b[0m\u001b[37m\u001b[0m \u001b[1m4s\u001b[0m 11ms/step - accuracy: 0.9633 - loss: 0.1208 - val_accuracy: 0.9737 - val_loss: 0.0837\n",
      "Epoch 4/10\n",
      "\u001b[1m375/375\u001b[0m \u001b[32m━━━━━━━━━━━━━━━━━━━━\u001b[0m\u001b[37m\u001b[0m \u001b[1m4s\u001b[0m 12ms/step - accuracy: 0.9697 - loss: 0.0976 - val_accuracy: 0.9755 - val_loss: 0.0840\n",
      "Epoch 5/10\n",
      "\u001b[1m375/375\u001b[0m \u001b[32m━━━━━━━━━━━━━━━━━━━━\u001b[0m\u001b[37m\u001b[0m \u001b[1m4s\u001b[0m 11ms/step - accuracy: 0.9759 - loss: 0.0797 - val_accuracy: 0.9780 - val_loss: 0.0753\n",
      "Epoch 6/10\n",
      "\u001b[1m375/375\u001b[0m \u001b[32m━━━━━━━━━━━━━━━━━━━━\u001b[0m\u001b[37m\u001b[0m \u001b[1m4s\u001b[0m 11ms/step - accuracy: 0.9784 - loss: 0.0678 - val_accuracy: 0.9770 - val_loss: 0.0819\n",
      "Epoch 7/10\n",
      "\u001b[1m375/375\u001b[0m \u001b[32m━━━━━━━━━━━━━━━━━━━━\u001b[0m\u001b[37m\u001b[0m \u001b[1m4s\u001b[0m 11ms/step - accuracy: 0.9815 - loss: 0.0631 - val_accuracy: 0.9788 - val_loss: 0.0770\n",
      "Epoch 8/10\n",
      "\u001b[1m375/375\u001b[0m \u001b[32m━━━━━━━━━━━━━━━━━━━━\u001b[0m\u001b[37m\u001b[0m \u001b[1m4s\u001b[0m 11ms/step - accuracy: 0.9822 - loss: 0.0582 - val_accuracy: 0.9808 - val_loss: 0.0703\n",
      "Epoch 9/10\n",
      "\u001b[1m375/375\u001b[0m \u001b[32m━━━━━━━━━━━━━━━━━━━━\u001b[0m\u001b[37m\u001b[0m \u001b[1m4s\u001b[0m 11ms/step - accuracy: 0.9859 - loss: 0.0479 - val_accuracy: 0.9811 - val_loss: 0.0742\n",
      "Epoch 10/10\n",
      "\u001b[1m375/375\u001b[0m \u001b[32m━━━━━━━━━━━━━━━━━━━━\u001b[0m\u001b[37m\u001b[0m \u001b[1m4s\u001b[0m 11ms/step - accuracy: 0.9860 - loss: 0.0437 - val_accuracy: 0.9822 - val_loss: 0.0739\n"
     ]
    }
   ],
   "source": [
    "# Train the model on the training dataset using specified parameters.\n",
    "# The model will be trained for 10 epochs with a batch size of 128.\n",
    "# Validation data is provided to monitor performance on the validation set after each epoch.\n",
    "results = model.fit(X_train, y_train, epochs=10, batch_size=128, validation_data=(X_val, y_val))"
   ]
  },
  {
   "cell_type": "code",
   "execution_count": 20,
   "id": "67db69c0",
   "metadata": {
    "execution": {
     "iopub.execute_input": "2024-10-20T17:52:52.924325Z",
     "iopub.status.busy": "2024-10-20T17:52:52.923829Z",
     "iopub.status.idle": "2024-10-20T17:52:53.695563Z",
     "shell.execute_reply": "2024-10-20T17:52:53.693681Z"
    },
    "papermill": {
     "duration": 0.856601,
     "end_time": "2024-10-20T17:52:53.698398",
     "exception": false,
     "start_time": "2024-10-20T17:52:52.841797",
     "status": "completed"
    },
    "tags": []
   },
   "outputs": [
    {
     "data": {
      "image/png": "[encoded data removed]",
      "text/plain": [
       "<Figure size 1200x500 with 2 Axes>"
      ]
     },
     "metadata": {},
     "output_type": "display_data"
    }
   ],
   "source": [
    "# Visualize the training results\n",
    "plt.figure(figsize=(12, 5))\n",
    "\n",
    "# Loss graph\n",
    "plt.subplot(1, 2, 1)\n",
    "plt.plot(results.history['loss'], label='Train Loss')  # Plot training loss\n",
    "plt.plot(results.history['val_loss'], label='Validation Loss')  # Plot validation loss\n",
    "plt.title('Loss Graph')  # Set the title for the loss graph\n",
    "plt.xlabel('Epochs')  # Label for the x-axis\n",
    "plt.ylabel('Loss')  # Label for the y-axis\n",
    "plt.legend()  # Show legend for the graph\n",
    "\n",
    "# Accuracy graph\n",
    "plt.subplot(1, 2, 2)\n",
    "plt.plot(results.history['accuracy'], label='Train Accuracy')  # Plot training accuracy\n",
    "plt.plot(results.history['val_accuracy'], label='Validation Accuracy')  # Plot validation accuracy\n",
    "plt.title('Accuracy Graph')  # Set the title for the accuracy graph\n",
    "plt.xlabel('Epochs')  # Label for the x-axis\n",
    "plt.ylabel('Accuracy')  # Label for the y-axis\n",
    "plt.legend()  # Show legend for the graph\n",
    "\n",
    "plt.tight_layout()  # Adjust layout for better spacing\n",
    "plt.show()  # Display the graphs"
   ]
  },
  {
   "cell_type": "markdown",
   "id": "5faa252f",
   "metadata": {
    "papermill": {
     "duration": 0.079871,
     "end_time": "2024-10-20T17:52:53.858421",
     "exception": false,
     "start_time": "2024-10-20T17:52:53.778550",
     "status": "completed"
    },
    "tags": []
   },
   "source": [
    "**Model Prediction**"
   ]
  },
  {
   "cell_type": "code",
   "execution_count": 21,
   "id": "6b1154c8",
   "metadata": {
    "execution": {
     "iopub.execute_input": "2024-10-20T17:52:54.022214Z",
     "iopub.status.busy": "2024-10-20T17:52:54.021640Z",
     "iopub.status.idle": "2024-10-20T17:52:55.162701Z",
     "shell.execute_reply": "2024-10-20T17:52:55.161462Z"
    },
    "papermill": {
     "duration": 1.226658,
     "end_time": "2024-10-20T17:52:55.165695",
     "exception": false,
     "start_time": "2024-10-20T17:52:53.939037",
     "status": "completed"
    },
    "tags": []
   },
   "outputs": [
    {
     "name": "stdout",
     "output_type": "stream",
     "text": [
      "\u001b[1m313/313\u001b[0m \u001b[32m━━━━━━━━━━━━━━━━━━━━\u001b[0m\u001b[37m\u001b[0m \u001b[1m1s\u001b[0m 3ms/step\n"
     ]
    }
   ],
   "source": [
    "# Make predictions using the test set\n",
    "y_pred = model.predict(X_test)  # Generate predictions for the test data\n",
    "\n",
    "# Convert predicted probabilities to class labels\n",
    "y_pred_classes = np.argmax(y_pred, axis=1)  # Get the index of the maximum probability for each prediction\n"
   ]
  },
  {
   "cell_type": "markdown",
   "id": "55d47299",
   "metadata": {
    "papermill": {
     "duration": 0.082495,
     "end_time": "2024-10-20T17:52:55.329998",
     "exception": false,
     "start_time": "2024-10-20T17:52:55.247503",
     "status": "completed"
    },
    "tags": []
   },
   "source": [
    "**Model Evaluation**"
   ]
  },
  {
   "cell_type": "code",
   "execution_count": 22,
   "id": "447dfa1f",
   "metadata": {
    "execution": {
     "iopub.execute_input": "2024-10-20T17:52:55.496020Z",
     "iopub.status.busy": "2024-10-20T17:52:55.494767Z",
     "iopub.status.idle": "2024-10-20T17:52:56.430849Z",
     "shell.execute_reply": "2024-10-20T17:52:56.429602Z"
    },
    "papermill": {
     "duration": 1.022528,
     "end_time": "2024-10-20T17:52:56.433994",
     "exception": false,
     "start_time": "2024-10-20T17:52:55.411466",
     "status": "completed"
    },
    "tags": []
   },
   "outputs": [
    {
     "name": "stdout",
     "output_type": "stream",
     "text": [
      "Test Loss: 0.07208729535341263\n",
      "Test Accuracy: 0.98089998960495\n"
     ]
    }
   ],
   "source": [
    "# Evaluate the model on the test set to determine its performance\n",
    "test_loss, test_accuracy = model.evaluate(X_test, y_test, verbose=0)  # Calculate loss and accuracy on the test data\n",
    "\n",
    "# Print the test loss and accuracy results\n",
    "print('Test Loss:', test_loss)  # Output the test loss\n",
    "print('Test Accuracy:', test_accuracy)  # Output the test accuracy"
   ]
  }
 ],
 "metadata": {
  "kaggle": {
   "accelerator": "none",
   "dataSources": [
    {
     "datasetId": 102285,
     "sourceId": 242592,
     "sourceType": "datasetVersion"
    }
   ],
   "dockerImageVersionId": 30786,
   "isGpuEnabled": false,
   "isInternetEnabled": false,
   "language": "python",
   "sourceType": "notebook"
  },
  "kernelspec": {
   "display_name": "Python 3",
   "language": "python",
   "name": "python3"
  },
  "language_info": {
   "codemirror_mode": {
    "name": "ipython",
    "version": 3
   },
   "file_extension": ".py",
   "mimetype": "text/x-python",
   "name": "python",
   "nbconvert_exporter": "python",
   "pygments_lexer": "ipython3",
   "version": "3.10.14"
  },
  "papermill": {
   "default_parameters": {},
   "duration": 73.60867,
   "end_time": "2024-10-20T17:52:58.895489",
   "environment_variables": {},
   "exception": null,
   "input_path": "__notebook__.ipynb",
   "output_path": "__notebook__.ipynb",
   "parameters": {},
   "start_time": "2024-10-20T17:51:45.286819",
   "version": "2.6.0"
  }
 },
 "nbformat": 4,
 "nbformat_minor": 5
}
